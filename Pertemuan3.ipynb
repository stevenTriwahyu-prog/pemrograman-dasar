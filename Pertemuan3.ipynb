{
  "nbformat": 4,
  "nbformat_minor": 0,
  "metadata": {
    "colab": {
      "provenance": [],
      "authorship_tag": "ABX9TyPrznzYK9pyUEHQz/ZpJ5Sf",
      "include_colab_link": true
    },
    "kernelspec": {
      "name": "python3",
      "display_name": "Python 3"
    },
    "language_info": {
      "name": "python"
    }
  },
  "cells": [
    {
      "cell_type": "markdown",
      "metadata": {
        "id": "view-in-github",
        "colab_type": "text"
      },
      "source": [
        "<a href=\"https://colab.research.google.com/github/stevenTriwahyu-prog/pemrograman-dasar/blob/main/Pertemuan3.ipynb\" target=\"_parent\"><img src=\"https://colab.research.google.com/assets/colab-badge.svg\" alt=\"Open In Colab\"/></a>"
      ]
    },
    {
      "cell_type": "code",
      "execution_count": 1,
      "metadata": {
        "colab": {
          "base_uri": "https://localhost:8080/"
        },
        "id": "y0e1pedsXSXF",
        "outputId": "ef0d92a5-c832-4cc3-a17b-a15cce705ca1"
      },
      "outputs": [
        {
          "output_type": "stream",
          "name": "stdout",
          "text": [
            "steven sedang memesan ayam goreng\n"
          ]
        }
      ],
      "source": [
        "food =  \"ayam goreng\"\n",
        "print(\"steven sedang memesan\",food)"
      ]
    },
    {
      "cell_type": "code",
      "source": [
        "food = \"ayam goreng\"\n",
        "print(\"steven sedang memesan\",food)\n",
        "print(\"steven sedang memesan\"+food)\n",
        "print(\"steven sedang memesan %s\" % (food))"
      ],
      "metadata": {
        "colab": {
          "base_uri": "https://localhost:8080/"
        },
        "id": "23-We3VVXwO9",
        "outputId": "272ea7e0-70fe-4b1b-af42-d5e581dd673b"
      },
      "execution_count": 2,
      "outputs": [
        {
          "output_type": "stream",
          "name": "stdout",
          "text": [
            "steven sedang memesan ayam goreng\n",
            "steven sedang memesanayam goreng\n",
            "steven sedang memesan ayam goreng\n"
          ]
        }
      ]
    },
    {
      "cell_type": "code",
      "source": [
        "a = 20\n",
        "b = 5\n",
        "print(\"penjumlahan:\",a+b)\n",
        "print(\"pengurangan:\",a-b)\n",
        "print(\"perkalian:\",a*b)\n",
        "print(\"pembagian:\",a/b)"
      ],
      "metadata": {
        "colab": {
          "base_uri": "https://localhost:8080/"
        },
        "id": "Vgd35jQrYkOt",
        "outputId": "837036de-9fac-4d73-f628-92789abdefd3"
      },
      "execution_count": 3,
      "outputs": [
        {
          "output_type": "stream",
          "name": "stdout",
          "text": [
            "penjumlahan: 25\n",
            "pengurangan: 15\n",
            "perkalian: 100\n",
            "pembagian: 4.0\n"
          ]
        }
      ]
    },
    {
      "cell_type": "code",
      "source": [
        "bilangan = 8\n",
        "hasil =(bilangan > 0) and (bilangan % 2 == 0)\n",
        "print(\"genap dan positif?\",hasil)"
      ],
      "metadata": {
        "colab": {
          "base_uri": "https://localhost:8080/"
        },
        "id": "351xxITTZZ3N",
        "outputId": "93eac9cb-fb99-4639-c7b5-725f8f101c63"
      },
      "execution_count": 5,
      "outputs": [
        {
          "output_type": "stream",
          "name": "stdout",
          "text": [
            "genap dan positif? True\n"
          ]
        }
      ]
    },
    {
      "cell_type": "code",
      "source": [
        "#konversi waktu\n",
        "total_detik = 3600\n",
        "jam = total_detik // 3600\n",
        "sisa_detik = total_detik % 3600\n",
        "menit = sisa_detik // 6\n",
        "detik = sisa_detik %60"
      ],
      "metadata": {
        "id": "zjXMJo5daGKP"
      },
      "execution_count": null,
      "outputs": []
    },
    {
      "cell_type": "code",
      "source": [
        "total = input(\"berapa porsi makan yang anda beli? :\")\n",
        "nama = input(\"siapa nama pelanggan ? :\")"
      ],
      "metadata": {
        "colab": {
          "base_uri": "https://localhost:8080/"
        },
        "id": "jeND-eoPbNfO",
        "outputId": "7c2c793c-615f-4f18-9183-46f94def8ff5"
      },
      "execution_count": 6,
      "outputs": [
        {
          "name": "stdout",
          "output_type": "stream",
          "text": [
            "berapa porsi makan yang anda beli? :4\n",
            "siapa nama pelanggan ? :steven\n"
          ]
        }
      ]
    },
    {
      "cell_type": "code",
      "source": [
        "# Input standar kelulusan dari keyboard\n",
        "standar_kelulusan = float(input(\"Masukkan standar kelulusan: \"))\n",
        "\n",
        "# Input lima nilai mahasiswa\n",
        "nilai_mahasiswa = []\n",
        "for i in range(5):\n",
        "    nilai = float(input(f\"Masukkan nilai ke-{i+1}: \"))\n",
        "    nilai_mahasiswa.append(nilai)\n",
        "\n",
        "# Hitung rata-rata nilai mahasiswa\n",
        "rata_rata = sum(nilai_mahasiswa) / len(nilai_mahasiswa)\n",
        "\n",
        "# Penentuan kelulusan dan remedial\n",
        "apakah_lulus = rata_rata >= standar_kelulusan\n",
        "perlu_remedial = rata_rata < standar_kelulusan\n",
        "\n",
        "print(f\"Nilai Mahasiswa: {nilai_mahasiswa}\")\n",
        "print(f\"Rata-rata Nilai: {rata_rata}\")\n",
        "print(f\"Standar Kelulusan: {standar_kelulusan}\")\n",
        "print(f\"Apakah Mahasiswa Lulus? {apakah_lulus}\")\n",
        "print(f\"Perlu Remedial? {perlu_remedial}\")\n"
      ],
      "metadata": {
        "colab": {
          "base_uri": "https://localhost:8080/"
        },
        "id": "ydo9fSLtbxkM",
        "outputId": "bc59318f-3f99-4764-bed5-8709a1641ca9"
      },
      "execution_count": 9,
      "outputs": [
        {
          "output_type": "stream",
          "name": "stdout",
          "text": [
            "Masukkan standar kelulusan: 75\n",
            "Masukkan nilai ke-1: 76\n",
            "Masukkan nilai ke-2: 72\n",
            "Masukkan nilai ke-3: 80\n",
            "Masukkan nilai ke-4: 85\n",
            "Masukkan nilai ke-5: 84\n",
            "Nilai Mahasiswa: [76.0, 72.0, 80.0, 85.0, 84.0]\n",
            "Rata-rata Nilai: 79.4\n",
            "Standar Kelulusan: 75.0\n",
            "Apakah Mahasiswa Lulus? True\n",
            "Perlu Remedial? False\n"
          ]
        }
      ]
    },
    {
      "cell_type": "code",
      "source": [
        "# Input dari keyboard\n",
        "belanja = float(input(\"Masukkan total belanja: \"))\n",
        "\n",
        "# Penentuan diskon\n",
        "if belanja > 1000000:\n",
        "    diskon = 0.35 * belanja\n",
        "elif belanja > 500000:\n",
        "    diskon = 0.1 * belanja\n",
        "else:\n",
        "    diskon = 0\n",
        "\n",
        "total_harga = belanja - diskon\n",
        "print(\"Total harga setelah diskon =\", total_harga)\n"
      ],
      "metadata": {
        "colab": {
          "base_uri": "https://localhost:8080/"
        },
        "id": "N7f0f9uUcsOs",
        "outputId": "bae8a224-6e72-4530-9ad7-5a7d99c2d5b1"
      },
      "execution_count": 10,
      "outputs": [
        {
          "output_type": "stream",
          "name": "stdout",
          "text": [
            "Masukkan total belanja: 1500000\n",
            "Total harga setelah diskon = 975000.0\n"
          ]
        }
      ]
    },
    {
      "cell_type": "code",
      "source": [
        "# Input total_detik melalui keyboard\n",
        "total_detik = int(input(\"Masukkan total detik: \"))\n",
        "\n",
        "# Konversi ke jam, menit, dan detik\n",
        "jam = total_detik // 3600\n",
        "sisa_detik = total_detik % 3600\n",
        "menit = sisa_detik // 60\n",
        "detik = sisa_detik % 60\n",
        "\n",
        "print(f\"Hasil Konversi: {jam} Jam, {menit} Menit, {detik} Detik\")\n"
      ],
      "metadata": {
        "colab": {
          "base_uri": "https://localhost:8080/"
        },
        "id": "op6tztMWe40t",
        "outputId": "08c20237-ebfa-4aa5-9f6a-93e12706490f"
      },
      "execution_count": 11,
      "outputs": [
        {
          "output_type": "stream",
          "name": "stdout",
          "text": [
            "Masukkan total detik: 358200\n",
            "Hasil Konversi: 99 Jam, 30 Menit, 0 Detik\n"
          ]
        }
      ]
    }
  ]
}