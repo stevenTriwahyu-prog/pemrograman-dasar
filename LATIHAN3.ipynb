{
  "nbformat": 4,
  "nbformat_minor": 0,
  "metadata": {
    "colab": {
      "provenance": [],
      "authorship_tag": "ABX9TyOvRdq+cpdN5niygbnv4Ahg",
      "include_colab_link": true
    },
    "kernelspec": {
      "name": "python3",
      "display_name": "Python 3"
    },
    "language_info": {
      "name": "python"
    }
  },
  "cells": [
    {
      "cell_type": "markdown",
      "metadata": {
        "id": "view-in-github",
        "colab_type": "text"
      },
      "source": [
        "<a href=\"https://colab.research.google.com/github/stevenTriwahyu-prog/pemrograman-dasar/blob/main/LATIHAN3.ipynb\" target=\"_parent\"><img src=\"https://colab.research.google.com/assets/colab-badge.svg\" alt=\"Open In Colab\"/></a>"
      ]
    },
    {
      "cell_type": "code",
      "execution_count": null,
      "metadata": {
        "colab": {
          "base_uri": "https://localhost:8080/"
        },
        "id": "ZIMZzhS_ln1f",
        "outputId": "479c70a2-eae2-4302-eccd-583f5f278aec"
      },
      "outputs": [
        {
          "output_type": "stream",
          "name": "stdout",
          "text": [
            "Masukkan tahun: 2100\n",
            "Tahun 2100 bukan tahun kabisat.\n"
          ]
        }
      ],
      "source": [
        "# Program Menentukan Tahun Kabisat\n",
        "\n",
        "# Fungsi input\n",
        "def input_tahun():\n",
        "    return int(input(\"Masukkan tahun: \"))\n",
        "\n",
        "# Fungsi proses (operasi logika dan aritmatika)\n",
        "def cek_kabisat(tahun):\n",
        "    if (tahun % 4 == 0 and tahun % 100 != 0) or (tahun % 400 == 0):\n",
        "        return True\n",
        "    else:\n",
        "        return False\n",
        "\n",
        "# Fungsi output\n",
        "def output_hasil(tahun, hasil):\n",
        "    if hasil:\n",
        "        print(f\"Tahun {tahun} adalah tahun kabisat.\")\n",
        "    else:\n",
        "        print(f\"Tahun {tahun} bukan tahun kabisat.\")\n",
        "\n",
        "# Program utama (lingkup program)\n",
        "def main():\n",
        "    tahun = input_tahun()\n",
        "    hasil = cek_kabisat(tahun)\n",
        "    output_hasil(tahun, hasil)\n",
        "\n",
        "# Eksekusi program\n",
        "main()\n"
      ]
    }
  ]
}