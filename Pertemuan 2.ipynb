{
  "nbformat": 4,
  "nbformat_minor": 0,
  "metadata": {
    "colab": {
      "provenance": [],
      "authorship_tag": "ABX9TyNGYaoffpSWLIV/IU/luGuX",
      "include_colab_link": true
    },
    "kernelspec": {
      "name": "python3",
      "display_name": "Python 3"
    },
    "language_info": {
      "name": "python"
    }
  },
  "cells": [
    {
      "cell_type": "markdown",
      "metadata": {
        "id": "view-in-github",
        "colab_type": "text"
      },
      "source": [
        "<a href=\"https://colab.research.google.com/github/stevenTriwahyu-prog/pemrograman-dasar/blob/main/Pertemuan%202.ipynb\" target=\"_parent\"><img src=\"https://colab.research.google.com/assets/colab-badge.svg\" alt=\"Open In Colab\"/></a>"
      ]
    },
    {
      "cell_type": "code",
      "execution_count": 4,
      "metadata": {
        "colab": {
          "base_uri": "https://localhost:8080/"
        },
        "id": "vGWET9ZI-oBQ",
        "outputId": "098549cd-cbba-4fcc-9d12-559872302967"
      },
      "outputs": [
        {
          "output_type": "stream",
          "name": "stdout",
          "text": [
            "Steven\n",
            "tri wahyu\n",
            "21\n",
            "False\n"
          ]
        }
      ],
      "source": [
        "first_name = \"Steven\"\n",
        "last_name = \"tri wahyu\"\n",
        "age = 21\n",
        "is_married = False\n",
        "\n",
        "print (first_name)\n",
        "print (last_name)\n",
        "print (age)\n",
        "print (is_married)"
      ]
    },
    {
      "cell_type": "code",
      "source": [
        "data_diri = {\n",
        "\"firstName\": \"Steven\",\n",
        "\"lastName\": \"Triwahyu\",\n",
        "\"age\": 21,\n",
        "\"isMarried\": False\n",
        "}\n",
        "\n",
        "print(data_diri)"
      ],
      "metadata": {
        "colab": {
          "base_uri": "https://localhost:8080/"
        },
        "id": "Z92z4SO4BNVn",
        "outputId": "d5555968-44f7-4be3-cbf7-c15985bbdebd"
      },
      "execution_count": 6,
      "outputs": [
        {
          "output_type": "stream",
          "name": "stdout",
          "text": [
            "{'firstName': 'Steven', 'lastName': 'Triwahyu', 'age': 21, 'isMarried': False}\n"
          ]
        }
      ]
    },
    {
      "cell_type": "code",
      "source": [
        "# Membuat dictionary startTime sesuai kriteria\n",
        "startTime = {\n",
        "    \"HH\": 9,\n",
        "    \"mm\": 23,\n",
        "    \"ss\": 57\n",
        "}\n",
        "print(startTime)\n",
        "\n",
        "# Membuat dictionary endTime sesuai kriteria\n",
        "endTime = {\n",
        "    \"HH\": 15,\n",
        "    \"mm\": 25,\n",
        "    \"ss\": 43\n",
        "}\n",
        "print(endTime)"
      ],
      "metadata": {
        "colab": {
          "base_uri": "https://localhost:8080/"
        },
        "id": "1RR-sBZ5ElRf",
        "outputId": "380b5a26-2ad1-4fb5-d96e-aaadadd9b7ce"
      },
      "execution_count": 14,
      "outputs": [
        {
          "output_type": "stream",
          "name": "stdout",
          "text": [
            "{'HH': 9, 'mm': 23, 'ss': 57}\n",
            "{'HH': 15, 'mm': 25, 'ss': 43}\n"
          ]
        }
      ]
    },
    {
      "cell_type": "code",
      "source": [
        "# Tulillah kode jawaban di bawah ini\n",
        "\n",
        "inspeksi = [\n",
        "    \"pemahaman terhadap rencana dan desain\",\n",
        "    \"ketersediaan bahan dan peralatan\",\n",
        "    \"pengawasan pekerjaan\",\n",
        "    \"kualitas konstruksi\",\n",
        "    \"keselamatan kerja\",\n",
        "    \"koordinasi dengan pemilik proyek\"\n",
        "]\n",
        "print(\"Daftar Inspeksi Proyek:\")\n",
        "for i, item in enumerate(inspeksi, start=1):\n",
        "    print(f\"{i}. {item}\")"
      ],
      "metadata": {
        "colab": {
          "base_uri": "https://localhost:8080/"
        },
        "id": "51PSOgidFMSK",
        "outputId": "95669396-5fdd-4eaf-c3a9-33f639bd7531"
      },
      "execution_count": 25,
      "outputs": [
        {
          "output_type": "stream",
          "name": "stdout",
          "text": [
            "Daftar Inspeksi Proyek:\n",
            "1. pemahaman terhadap rencana dan desain\n",
            "2. ketersediaan bahan dan peralatan\n",
            "3. pengawasan pekerjaan\n",
            "4. kualitas konstruksi\n",
            "5. keselamatan kerja\n",
            "6. koordinasi dengan pemilik proyek\n"
          ]
        }
      ]
    },
    {
      "cell_type": "code",
      "source": [
        "# Daftar produk dari dua pemasok dalam bentuk set\n",
        "katalog_A = {\"produk_1\", \"produk_2\", \"produk_3\", \"produk_4\"}\n",
        "katalog_B = {\"produk_3\", \"produk_4\", \"produk_5\", \"produk_6\"}\n",
        "\n",
        "# Daftar produk yang sedang diskon dalam bentuk tuple\n",
        "produk_diskon = (\"produk_2\", \"produk_4\", \"produk_5\")\n",
        "\n",
        "# 1. Gabungkan katalog_A dan katalog_B menjadi satu set bernama katalog_lengkap\n",
        "katalog_lengkap = katalog_A.union(katalog_B)\n",
        "\n",
        "# 2. Cari produk mana saja dari katalog_lengkap yang ada di produk_diskon\n",
        "produk_promo_aktif = katalog_lengkap.intersection(produk_diskon)\n",
        "\n",
        "# Menampilkan hasil\n",
        "print(\"Katalog Lengkap:\", katalog_lengkap)\n",
        "print(\"Produk Promo Aktif:\", produk_promo_aktif)\n"
      ],
      "metadata": {
        "colab": {
          "base_uri": "https://localhost:8080/"
        },
        "id": "9nGAGItHHLjX",
        "outputId": "f0c9facc-a2d5-4f64-f168-a95015a2fffc"
      },
      "execution_count": 26,
      "outputs": [
        {
          "output_type": "stream",
          "name": "stdout",
          "text": [
            "Katalog Lengkap: {'produk_2', 'produk_5', 'produk_4', 'produk_3', 'produk_6', 'produk_1'}\n",
            "Produk Promo Aktif: {'produk_4', 'produk_2', 'produk_5'}\n"
          ]
        }
      ]
    }
  ]
}