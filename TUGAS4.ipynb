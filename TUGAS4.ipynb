{
  "nbformat": 4,
  "nbformat_minor": 0,
  "metadata": {
    "colab": {
      "provenance": [],
      "authorship_tag": "ABX9TyMkhO6LkawJxjKEeyU3j27Q",
      "include_colab_link": true
    },
    "kernelspec": {
      "name": "python3",
      "display_name": "Python 3"
    },
    "language_info": {
      "name": "python"
    }
  },
  "cells": [
    {
      "cell_type": "markdown",
      "metadata": {
        "id": "view-in-github",
        "colab_type": "text"
      },
      "source": [
        "<a href=\"https://colab.research.google.com/github/stevenTriwahyu-prog/pemrograman-dasar/blob/main/TUGAS4.ipynb\" target=\"_parent\"><img src=\"https://colab.research.google.com/assets/colab-badge.svg\" alt=\"Open In Colab\"/></a>"
      ]
    },
    {
      "cell_type": "code",
      "execution_count": 2,
      "metadata": {
        "colab": {
          "base_uri": "https://localhost:8080/"
        },
        "id": "UZCfEfVyUya1",
        "outputId": "3830f53b-13b3-495b-fed1-323c2aaf16f6"
      },
      "outputs": [
        {
          "output_type": "stream",
          "name": "stdout",
          "text": [
            "==============================\n",
            "SELAMAT DATANG DI KAFE GEMINI\n",
            "==============================\n",
            "Menu Makanan & Minuman:\n",
            "1. Kopi Hitam   - Rp 12.000\n",
            "2. Teh Manis    - Rp 8.000\n",
            "3. Roti Bakar   - Rp 15.000\n",
            "4. Mie Instan   - Rp 10.000\n",
            "==============================\n",
            "Silakan masukkan nomor pilihan Anda (1-4): 3\n",
            "==============================\n",
            "RINCIAN PESANAN:\n",
            "Nama Pesanan: Roti Bakar\n",
            "Harga Awal: Rp 15,000\n",
            "Diskon (70.0%): Rp 10,500\n",
            "Harga Setelah Diskon: Rp 4,500\n",
            "==============================\n"
          ]
        }
      ],
      "source": [
        "print(\"=\"*30)\n",
        "print(\"SELAMAT DATANG DI KAFE GEMINI\")\n",
        "print(\"=\"*30)\n",
        "\n",
        "print(\"Menu Makanan & Minuman:\")\n",
        "print(\"1. Kopi Hitam   - Rp 12.000\")\n",
        "print(\"2. Teh Manis    - Rp 8.000\")\n",
        "print(\"3. Roti Bakar   - Rp 15.000\")\n",
        "print(\"4. Mie Instan   - Rp 10.000\")\n",
        "print(\"=\"*30)\n",
        "\n",
        "pilihan_str: str = input(\"Silakan masukkan nomor pilihan Anda (1-4): \")\n",
        "pilihan_int: int = int(pilihan_str)\n",
        "nama_pesanan: str = \"\"\n",
        "harga: int = 0\n",
        "\n",
        "if pilihan_int == 1:\n",
        "    nama_pesanan = \"Kopi Hitam\"\n",
        "    harga = 12000\n",
        "elif pilihan_int == 2:\n",
        "    nama_pesanan = \"Teh Manis\"\n",
        "    harga = 8000\n",
        "elif pilihan_int == 3:\n",
        "    nama_pesanan = \"Roti Bakar\"\n",
        "    harga = 15000\n",
        "elif pilihan_int == 4:\n",
        "    nama_pesanan = \"Mie Instan\"\n",
        "    harga = 10000\n",
        "else:\n",
        "    print(\"Maaf, pilihan menu tidak valid. Silakan jalankan ulang program.\")\n",
        "    exit()\n",
        "\n",
        "# === PROSES DISKON ===\n",
        "diskon = 0\n",
        "if harga >= 15000:\n",
        "    diskon = 0.7\n",
        "elif harga >= 10000:\n",
        "    diskon = 0.5\n",
        "else:\n",
        "    diskon = 0.3\n",
        "\n",
        "jumlah_diskon = int(harga * diskon)\n",
        "harga_setelah_diskon = harga - jumlah_diskon\n",
        "\n",
        "print(\"=\"*30)\n",
        "print(\"RINCIAN PESANAN:\")\n",
        "print(f\"Nama Pesanan: {nama_pesanan}\")\n",
        "print(f\"Harga Awal: Rp {harga:,.0f}\")\n",
        "print(f\"Diskon ({diskon*100}%): Rp {jumlah_diskon:,.0f}\")\n",
        "print(f\"Harga Setelah Diskon: Rp {harga_setelah_diskon:,.0f}\")\n",
        "print(\"=\"*30)"
      ]
    }
  ]
}